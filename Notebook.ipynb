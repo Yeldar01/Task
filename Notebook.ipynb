{
 "cells": [
  {
   "attachments": {},
   "cell_type": "markdown",
   "metadata": {},
   "source": [
    "Import pandas and matplotlib"
   ]
  },
  {
   "cell_type": "code",
   "execution_count": 3,
   "metadata": {},
   "outputs": [],
   "source": [
    "import pandas as pd\n",
    "import matplotlib.pyplot as plt\n",
    "import os"
   ]
  },
  {
   "attachments": {},
   "cell_type": "markdown",
   "metadata": {},
   "source": [
    "Create folder \"plots\""
   ]
  },
  {
   "cell_type": "code",
   "execution_count": 4,
   "metadata": {},
   "outputs": [
    {
     "name": "stdout",
     "output_type": "stream",
     "text": [
      "Folder ./plots already exists\n"
     ]
    }
   ],
   "source": [
    "folder = 'plots'\n",
    "path = './'+folder\n",
    "if not os.path.exists(path):\n",
    "  os.mkdir(path)\n",
    "  print(f'Folder {path} created!')\n",
    "else:\n",
    "  print(f'Folder {path} already exists')"
   ]
  },
  {
   "attachments": {},
   "cell_type": "markdown",
   "metadata": {},
   "source": [
    "Get current path"
   ]
  },
  {
   "cell_type": "code",
   "execution_count": 5,
   "metadata": {},
   "outputs": [
    {
     "name": "stdout",
     "output_type": "stream",
     "text": [
      "c:\\Users\\Yeldar\\Desktop\\Test\\Task\n"
     ]
    }
   ],
   "source": [
    "directory_path=(os.getcwd())\n",
    "print(directory_path)"
   ]
  },
  {
   "attachments": {},
   "cell_type": "markdown",
   "metadata": {},
   "source": [
    "Create class \"Plot\" with method \"draw_plots\""
   ]
  },
  {
   "cell_type": "code",
   "execution_count": 6,
   "metadata": {},
   "outputs": [],
   "source": [
    "class Plot:\n",
    "    \n",
    "    def save_file(self,x,y,name_path,x_label:str,y_label:str):\n",
    "        font = {'family':'serif','color':'blue','size':12}\n",
    "        plt.plot(x,y)\n",
    "        plt.xlabel(x_label.upper(),fontdict=font,loc='right')\n",
    "        plt.ylabel(y_label.upper(),fontdict=font,loc='top')\n",
    "        plt.savefig(name_path)\n",
    "        plt.show()\n",
    "    \n",
    "    def draw_plots(self,json_file:str):\n",
    "        df = pd.read_json(json_file)    \n",
    "        df = df.head() # i use head() method for so that you can see data\n",
    "        col_list = df.columns.values.tolist()\n",
    "        path_list = list()\n",
    "        n = len(col_list)\n",
    "        for j in range(1,n):\n",
    "            x = df.get(col_list[0])\n",
    "            y = df.get(col_list[j])\n",
    "            name_file = f\"plot_{col_list[0]}-{col_list[j]}.png\"\n",
    "            save_path = f\"{path}/{name_file}\"\n",
    "            self.save_file(x,y,save_path,col_list[0],col_list[j])\n",
    "            path_list.append(f'{directory_path}\\\\{folder}\\\\{name_file}')\n",
    "        return path_list"
   ]
  },
  {
   "cell_type": "code",
   "execution_count": 8,
   "metadata": {},
   "outputs": [],
   "source": [
    "p = Plot()\n",
    "p.draw_plots(\"https://ai-process-sandy.s3.eu-west-1.amazonaws.com/purge/deviation.json\")"
   ]
  }
 ],
 "metadata": {
  "kernelspec": {
   "display_name": "Python 3",
   "language": "python",
   "name": "python3"
  },
  "language_info": {
   "codemirror_mode": {
    "name": "ipython",
    "version": 3
   },
   "file_extension": ".py",
   "mimetype": "text/x-python",
   "name": "python",
   "nbconvert_exporter": "python",
   "pygments_lexer": "ipython3",
   "version": "3.9.11"
  },
  "orig_nbformat": 4
 },
 "nbformat": 4,
 "nbformat_minor": 2
}
